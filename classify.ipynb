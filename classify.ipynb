{
 "cells": [
  {
   "cell_type": "code",
   "execution_count": 1,
   "metadata": {
    "collapsed": true
   },
   "outputs": [],
   "source": [
    "import pandas as pd\n",
    "import pickle\n",
    "\n",
    "from sklearn.metrics import f1_score, classification_report\n",
    "from sklearn.metrics import confusion_matrix\n",
    "\n",
    "import warnings\n",
    "warnings.filterwarnings('ignore')"
   ]
  },
  {
   "cell_type": "code",
   "execution_count": 2,
   "outputs": [],
   "source": [
    "def classify(model_filename, data_filename):\n",
    "    features = pd.read_csv(data_filename)\n",
    "    important_features = [\n",
    "        'is_verified',\n",
    "        'friends_count',\n",
    "        'friends_growth_rate',\n",
    "        'favourites_count',\n",
    "        'user_age',\n",
    "        'favourites_growth_rate',\n",
    "        'followers_count',\n",
    "        'listed_count',\n",
    "        'followers_growth_rate',\n",
    "        'listed_growth_rate'\n",
    "    ]\n",
    "    with open(model_filename, 'rb') as f:\n",
    "        model = pickle.load(f)\n",
    "    if '2_2' in model_filename:\n",
    "        features = features[important_features]\n",
    "    predictions = model.predict(features)\n",
    "    return predictions"
   ],
   "metadata": {
    "collapsed": false
   }
  },
  {
   "cell_type": "code",
   "execution_count": 3,
   "outputs": [],
   "source": [
    "y_test = pd.read_csv('classes_train.csv')"
   ],
   "metadata": {
    "collapsed": false
   }
  },
  {
   "cell_type": "code",
   "execution_count": 4,
   "outputs": [
    {
     "name": "stdout",
     "output_type": "stream",
     "text": [
      "[[1799    1]\n",
      " [   3  597]]\n",
      "F1-score:  0.996661101836394\n",
      "              precision    recall  f1-score   support\n",
      "\n",
      "           0       1.00      1.00      1.00      1800\n",
      "           1       1.00      0.99      1.00       600\n",
      "\n",
      "    accuracy                           1.00      2400\n",
      "   macro avg       1.00      1.00      1.00      2400\n",
      "weighted avg       1.00      1.00      1.00      2400\n",
      "\n"
     ]
    }
   ],
   "source": [
    "predictions_1_1 = classify('task_1_1.pkl', 'features_train.csv')\n",
    "\n",
    "print(confusion_matrix(y_test, predictions_1_1))\n",
    "print(\"F1-score: \", f1_score(y_test, predictions_1_1))\n",
    "print(classification_report(y_test, predictions_1_1))"
   ],
   "metadata": {
    "collapsed": false
   }
  },
  {
   "cell_type": "code",
   "execution_count": 5,
   "outputs": [
    {
     "name": "stdout",
     "output_type": "stream",
     "text": [
      "[[1798    2]\n",
      " [   4  596]]\n",
      "F1-score:  0.9949916527545909\n",
      "              precision    recall  f1-score   support\n",
      "\n",
      "           0       1.00      1.00      1.00      1800\n",
      "           1       1.00      0.99      0.99       600\n",
      "\n",
      "    accuracy                           1.00      2400\n",
      "   macro avg       1.00      1.00      1.00      2400\n",
      "weighted avg       1.00      1.00      1.00      2400\n",
      "\n"
     ]
    }
   ],
   "source": [
    "predictions_2_2 = classify('task_2_2.pkl', 'features_train.csv')\n",
    "\n",
    "print(confusion_matrix(y_test, predictions_2_2))\n",
    "print(\"F1-score: \", f1_score(y_test, predictions_2_2))\n",
    "print(classification_report(y_test, predictions_2_2))"
   ],
   "metadata": {
    "collapsed": false
   }
  }
 ],
 "metadata": {
  "kernelspec": {
   "display_name": "Python 3",
   "language": "python",
   "name": "python3"
  },
  "language_info": {
   "codemirror_mode": {
    "name": "ipython",
    "version": 2
   },
   "file_extension": ".py",
   "mimetype": "text/x-python",
   "name": "python",
   "nbconvert_exporter": "python",
   "pygments_lexer": "ipython2",
   "version": "2.7.6"
  }
 },
 "nbformat": 4,
 "nbformat_minor": 0
}
