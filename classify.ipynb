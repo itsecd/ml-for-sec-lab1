{
  "nbformat": 4,
  "nbformat_minor": 0,
  "metadata": {
    "colab": {
      "provenance": []
    },
    "kernelspec": {
      "name": "python3",
      "display_name": "Python 3"
    },
    "language_info": {
      "name": "python"
    }
  },
  "cells": [
    {
      "cell_type": "code",
      "execution_count": null,
      "metadata": {
        "id": "RB4cPxhV36eM"
      },
      "outputs": [],
      "source": [
        "\n",
        "# Импортируем модули и библиотеки\n",
        "\n",
        "\n",
        "from sklearn.model_selection import train_test_split\n",
        "from sklearn.tree import DecisionTreeClassifier\n",
        "from sklearn.ensemble import RandomForestClassifier\n",
        "from sklearn.metrics import classification_report,confusion_matrix\n",
        "from sklearn.metrics import accuracy_score\n",
        "\n",
        "\n",
        "import matplotlib.pyplot as plt\n",
        "import numpy as np\n",
        "import pandas as pd\n",
        "import seaborn as sns\n",
        "import pickle\n",
        "import joblib\n",
        "from sklearn.model_selection import train_test_split, RandomizedSearchCV, StratifiedKFold, GridSearchCV\n",
        "from sklearn.metrics import plot_confusion_matrix, f1_score, recall_score, precision_score, classification_report\n",
        "!pip install scikit-optimize\n",
        "import warnings\n",
        "warnings.filterwarnings('ignore')\n",
        "\n"
      ]
    },
    {
      "cell_type": "code",
      "source": [
        "def classify(model_name, data_name):\n",
        "    model = joblib.load(model_name)\n",
        "    df = pd.read_csv(data_name)\n",
        "    \n",
        "    y_pred = model.predict(df)\n",
        "    \n",
        "    return y_pred.reshape((1, y_pred.size)) \n",
        "\n"
      ],
      "metadata": {
        "id": "gsqf29Pv38TM"
      },
      "execution_count": null,
      "outputs": []
    },
    {
      "cell_type": "code",
      "source": [
        "model_1 = 'first_model.pkl'\n",
        "data_1 = 'features_train.csv'\n",
        "y_pred = classify(model_1, data)\n",
        "y_pred\n",
        "\n"
      ],
      "metadata": {
        "id": "yePOkubk4IQf"
      },
      "execution_count": null,
      "outputs": []
    },
    {
      "cell_type": "code",
      "source": [
        "model_2 = 'DTC.pkl'\n",
        "data_2 = 'features_train_2.csv'\n",
        "y_pred = classify(model_1, data)\n",
        "y_pred"
      ],
      "metadata": {
        "id": "Y_y0jPUt_R-V"
      },
      "execution_count": null,
      "outputs": []
    }
  ]
}