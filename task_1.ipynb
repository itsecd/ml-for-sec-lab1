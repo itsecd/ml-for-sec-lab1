{
 "cells": [
  {
   "cell_type": "code",
   "execution_count": 1,
   "id": "fc198d77",
   "metadata": {},
   "outputs": [],
   "source": [
    "import pickle\n",
    "import warnings\n",
    "\n",
    "import lightgbm as lgbm\n",
    "import matplotlib.pyplot as plt\n",
    "import numpy as np\n",
    "import pandas as pd\n",
    "import seaborn as sns\n",
    "\n",
    "from sklearn.metrics import (classification_report, f1_score,\n",
    "                             plot_confusion_matrix, plot_roc_curve,\n",
    "                             roc_auc_score)\n",
    "from sklearn.model_selection import cross_val_score, train_test_split\n",
    "from tqdm.notebook import tqdm\n",
    "\n",
    "warnings.filterwarnings('ignore')\n",
    "\n",
    "\n",
    "%matplotlib inline\n",
    "plt.rcParams['figure.figsize'] = (10, 6)"
   ]
  },
  {
   "cell_type": "code",
   "execution_count": 2,
   "id": "efa5dca4",
   "metadata": {},
   "outputs": [],
   "source": [
    "features = pd.read_csv('features_train.csv')\n",
    "classes = pd.read_csv('classes_train.csv')"
   ]
  },
  {
   "cell_type": "code",
   "execution_count": 3,
   "id": "4d30093d",
   "metadata": {},
   "outputs": [
    {
     "data": {
      "text/html": [
       "<div>\n",
       "<style scoped>\n",
       "    .dataframe tbody tr th:only-of-type {\n",
       "        vertical-align: middle;\n",
       "    }\n",
       "\n",
       "    .dataframe tbody tr th {\n",
       "        vertical-align: top;\n",
       "    }\n",
       "\n",
       "    .dataframe thead th {\n",
       "        text-align: right;\n",
       "    }\n",
       "</style>\n",
       "<table border=\"1\" class=\"dataframe\">\n",
       "  <thead>\n",
       "    <tr style=\"text-align: right;\">\n",
       "      <th></th>\n",
       "      <th>statuses_count</th>\n",
       "      <th>followers_count</th>\n",
       "      <th>friends_count</th>\n",
       "      <th>favourites_count</th>\n",
       "      <th>listed_count</th>\n",
       "      <th>is_default_profile</th>\n",
       "      <th>is_profile_use_background_image</th>\n",
       "      <th>is_verified</th>\n",
       "      <th>user_age</th>\n",
       "      <th>tweets_freq</th>\n",
       "      <th>followers_growth_rate</th>\n",
       "      <th>friends_growth_rate</th>\n",
       "      <th>favourites_growth_rate</th>\n",
       "      <th>listed_growth_rate</th>\n",
       "      <th>followers_friends_ratio</th>\n",
       "      <th>screen_name_length</th>\n",
       "      <th>num_digits_in_screen_name</th>\n",
       "      <th>length_of_name</th>\n",
       "      <th>num_digits_in_name</th>\n",
       "      <th>description_length</th>\n",
       "    </tr>\n",
       "  </thead>\n",
       "  <tbody>\n",
       "    <tr>\n",
       "      <th>0</th>\n",
       "      <td>5124</td>\n",
       "      <td>6641</td>\n",
       "      <td>3074</td>\n",
       "      <td>13768</td>\n",
       "      <td>126</td>\n",
       "      <td>0</td>\n",
       "      <td>0</td>\n",
       "      <td>1</td>\n",
       "      <td>2711</td>\n",
       "      <td>1.890077</td>\n",
       "      <td>2.449650</td>\n",
       "      <td>1.133899</td>\n",
       "      <td>5.078569</td>\n",
       "      <td>0.046477</td>\n",
       "      <td>2.160377</td>\n",
       "      <td>12</td>\n",
       "      <td>0</td>\n",
       "      <td>14</td>\n",
       "      <td>0</td>\n",
       "      <td>73</td>\n",
       "    </tr>\n",
       "    <tr>\n",
       "      <th>1</th>\n",
       "      <td>10672</td>\n",
       "      <td>8465</td>\n",
       "      <td>1575</td>\n",
       "      <td>4561</td>\n",
       "      <td>191</td>\n",
       "      <td>0</td>\n",
       "      <td>1</td>\n",
       "      <td>1</td>\n",
       "      <td>4424</td>\n",
       "      <td>2.412297</td>\n",
       "      <td>1.913427</td>\n",
       "      <td>0.356013</td>\n",
       "      <td>1.030967</td>\n",
       "      <td>0.043174</td>\n",
       "      <td>5.374603</td>\n",
       "      <td>11</td>\n",
       "      <td>0</td>\n",
       "      <td>23</td>\n",
       "      <td>0</td>\n",
       "      <td>142</td>\n",
       "    </tr>\n",
       "    <tr>\n",
       "      <th>2</th>\n",
       "      <td>704</td>\n",
       "      <td>3108</td>\n",
       "      <td>454</td>\n",
       "      <td>2400</td>\n",
       "      <td>77</td>\n",
       "      <td>0</td>\n",
       "      <td>0</td>\n",
       "      <td>0</td>\n",
       "      <td>1358</td>\n",
       "      <td>0.518409</td>\n",
       "      <td>2.288660</td>\n",
       "      <td>0.334315</td>\n",
       "      <td>1.767305</td>\n",
       "      <td>0.056701</td>\n",
       "      <td>6.845815</td>\n",
       "      <td>12</td>\n",
       "      <td>0</td>\n",
       "      <td>18</td>\n",
       "      <td>0</td>\n",
       "      <td>90</td>\n",
       "    </tr>\n",
       "    <tr>\n",
       "      <th>3</th>\n",
       "      <td>6091</td>\n",
       "      <td>304528</td>\n",
       "      <td>526</td>\n",
       "      <td>599</td>\n",
       "      <td>1515</td>\n",
       "      <td>0</td>\n",
       "      <td>1</td>\n",
       "      <td>1</td>\n",
       "      <td>4214</td>\n",
       "      <td>1.445420</td>\n",
       "      <td>72.265781</td>\n",
       "      <td>0.124822</td>\n",
       "      <td>0.142145</td>\n",
       "      <td>0.359516</td>\n",
       "      <td>578.950570</td>\n",
       "      <td>10</td>\n",
       "      <td>0</td>\n",
       "      <td>11</td>\n",
       "      <td>0</td>\n",
       "      <td>51</td>\n",
       "    </tr>\n",
       "    <tr>\n",
       "      <th>4</th>\n",
       "      <td>12967</td>\n",
       "      <td>13693</td>\n",
       "      <td>204</td>\n",
       "      <td>1177</td>\n",
       "      <td>452</td>\n",
       "      <td>0</td>\n",
       "      <td>1</td>\n",
       "      <td>1</td>\n",
       "      <td>3200</td>\n",
       "      <td>4.052187</td>\n",
       "      <td>4.279063</td>\n",
       "      <td>0.063750</td>\n",
       "      <td>0.367812</td>\n",
       "      <td>0.141250</td>\n",
       "      <td>67.122549</td>\n",
       "      <td>13</td>\n",
       "      <td>0</td>\n",
       "      <td>14</td>\n",
       "      <td>0</td>\n",
       "      <td>106</td>\n",
       "    </tr>\n",
       "  </tbody>\n",
       "</table>\n",
       "</div>"
      ],
      "text/plain": [
       "   statuses_count  followers_count  friends_count  favourites_count  \\\n",
       "0            5124             6641           3074             13768   \n",
       "1           10672             8465           1575              4561   \n",
       "2             704             3108            454              2400   \n",
       "3            6091           304528            526               599   \n",
       "4           12967            13693            204              1177   \n",
       "\n",
       "   listed_count  is_default_profile  is_profile_use_background_image  \\\n",
       "0           126                   0                                0   \n",
       "1           191                   0                                1   \n",
       "2            77                   0                                0   \n",
       "3          1515                   0                                1   \n",
       "4           452                   0                                1   \n",
       "\n",
       "   is_verified  user_age  tweets_freq  followers_growth_rate  \\\n",
       "0            1      2711     1.890077               2.449650   \n",
       "1            1      4424     2.412297               1.913427   \n",
       "2            0      1358     0.518409               2.288660   \n",
       "3            1      4214     1.445420              72.265781   \n",
       "4            1      3200     4.052187               4.279063   \n",
       "\n",
       "   friends_growth_rate  favourites_growth_rate  listed_growth_rate  \\\n",
       "0             1.133899                5.078569            0.046477   \n",
       "1             0.356013                1.030967            0.043174   \n",
       "2             0.334315                1.767305            0.056701   \n",
       "3             0.124822                0.142145            0.359516   \n",
       "4             0.063750                0.367812            0.141250   \n",
       "\n",
       "   followers_friends_ratio  screen_name_length  num_digits_in_screen_name  \\\n",
       "0                 2.160377                  12                          0   \n",
       "1                 5.374603                  11                          0   \n",
       "2                 6.845815                  12                          0   \n",
       "3               578.950570                  10                          0   \n",
       "4                67.122549                  13                          0   \n",
       "\n",
       "   length_of_name  num_digits_in_name  description_length  \n",
       "0              14                   0                  73  \n",
       "1              23                   0                 142  \n",
       "2              18                   0                  90  \n",
       "3              11                   0                  51  \n",
       "4              14                   0                 106  "
      ]
     },
     "execution_count": 3,
     "metadata": {},
     "output_type": "execute_result"
    }
   ],
   "source": [
    "features.head()"
   ]
  },
  {
   "cell_type": "code",
   "execution_count": 4,
   "id": "70ddb332",
   "metadata": {},
   "outputs": [
    {
     "data": {
      "text/html": [
       "<div>\n",
       "<style scoped>\n",
       "    .dataframe tbody tr th:only-of-type {\n",
       "        vertical-align: middle;\n",
       "    }\n",
       "\n",
       "    .dataframe tbody tr th {\n",
       "        vertical-align: top;\n",
       "    }\n",
       "\n",
       "    .dataframe thead th {\n",
       "        text-align: right;\n",
       "    }\n",
       "</style>\n",
       "<table border=\"1\" class=\"dataframe\">\n",
       "  <thead>\n",
       "    <tr style=\"text-align: right;\">\n",
       "      <th></th>\n",
       "      <th>is_bot</th>\n",
       "    </tr>\n",
       "  </thead>\n",
       "  <tbody>\n",
       "    <tr>\n",
       "      <th>0</th>\n",
       "      <td>0</td>\n",
       "    </tr>\n",
       "    <tr>\n",
       "      <th>1</th>\n",
       "      <td>0</td>\n",
       "    </tr>\n",
       "    <tr>\n",
       "      <th>2</th>\n",
       "      <td>0</td>\n",
       "    </tr>\n",
       "    <tr>\n",
       "      <th>3</th>\n",
       "      <td>0</td>\n",
       "    </tr>\n",
       "    <tr>\n",
       "      <th>4</th>\n",
       "      <td>0</td>\n",
       "    </tr>\n",
       "  </tbody>\n",
       "</table>\n",
       "</div>"
      ],
      "text/plain": [
       "   is_bot\n",
       "0       0\n",
       "1       0\n",
       "2       0\n",
       "3       0\n",
       "4       0"
      ]
     },
     "execution_count": 4,
     "metadata": {},
     "output_type": "execute_result"
    }
   ],
   "source": [
    "classes.head()"
   ]
  },
  {
   "cell_type": "code",
   "execution_count": 5,
   "id": "7e39ab99",
   "metadata": {},
   "outputs": [],
   "source": [
    "df = features.copy()\n",
    "df['is_bot'] = classes['is_bot']"
   ]
  },
  {
   "cell_type": "code",
   "execution_count": 6,
   "id": "d0ff53a4",
   "metadata": {},
   "outputs": [
    {
     "data": {
      "text/html": [
       "<div>\n",
       "<style scoped>\n",
       "    .dataframe tbody tr th:only-of-type {\n",
       "        vertical-align: middle;\n",
       "    }\n",
       "\n",
       "    .dataframe tbody tr th {\n",
       "        vertical-align: top;\n",
       "    }\n",
       "\n",
       "    .dataframe thead th {\n",
       "        text-align: right;\n",
       "    }\n",
       "</style>\n",
       "<table border=\"1\" class=\"dataframe\">\n",
       "  <thead>\n",
       "    <tr style=\"text-align: right;\">\n",
       "      <th></th>\n",
       "      <th>statuses_count</th>\n",
       "      <th>followers_count</th>\n",
       "      <th>friends_count</th>\n",
       "      <th>favourites_count</th>\n",
       "      <th>listed_count</th>\n",
       "      <th>is_default_profile</th>\n",
       "      <th>is_profile_use_background_image</th>\n",
       "      <th>is_verified</th>\n",
       "      <th>user_age</th>\n",
       "      <th>tweets_freq</th>\n",
       "      <th>...</th>\n",
       "      <th>friends_growth_rate</th>\n",
       "      <th>favourites_growth_rate</th>\n",
       "      <th>listed_growth_rate</th>\n",
       "      <th>followers_friends_ratio</th>\n",
       "      <th>screen_name_length</th>\n",
       "      <th>num_digits_in_screen_name</th>\n",
       "      <th>length_of_name</th>\n",
       "      <th>num_digits_in_name</th>\n",
       "      <th>description_length</th>\n",
       "      <th>is_bot</th>\n",
       "    </tr>\n",
       "  </thead>\n",
       "  <tbody>\n",
       "    <tr>\n",
       "      <th>0</th>\n",
       "      <td>5124</td>\n",
       "      <td>6641</td>\n",
       "      <td>3074</td>\n",
       "      <td>13768</td>\n",
       "      <td>126</td>\n",
       "      <td>0</td>\n",
       "      <td>0</td>\n",
       "      <td>1</td>\n",
       "      <td>2711</td>\n",
       "      <td>1.890077</td>\n",
       "      <td>...</td>\n",
       "      <td>1.133899</td>\n",
       "      <td>5.078569</td>\n",
       "      <td>0.046477</td>\n",
       "      <td>2.160377</td>\n",
       "      <td>12</td>\n",
       "      <td>0</td>\n",
       "      <td>14</td>\n",
       "      <td>0</td>\n",
       "      <td>73</td>\n",
       "      <td>0</td>\n",
       "    </tr>\n",
       "    <tr>\n",
       "      <th>1</th>\n",
       "      <td>10672</td>\n",
       "      <td>8465</td>\n",
       "      <td>1575</td>\n",
       "      <td>4561</td>\n",
       "      <td>191</td>\n",
       "      <td>0</td>\n",
       "      <td>1</td>\n",
       "      <td>1</td>\n",
       "      <td>4424</td>\n",
       "      <td>2.412297</td>\n",
       "      <td>...</td>\n",
       "      <td>0.356013</td>\n",
       "      <td>1.030967</td>\n",
       "      <td>0.043174</td>\n",
       "      <td>5.374603</td>\n",
       "      <td>11</td>\n",
       "      <td>0</td>\n",
       "      <td>23</td>\n",
       "      <td>0</td>\n",
       "      <td>142</td>\n",
       "      <td>0</td>\n",
       "    </tr>\n",
       "    <tr>\n",
       "      <th>2</th>\n",
       "      <td>704</td>\n",
       "      <td>3108</td>\n",
       "      <td>454</td>\n",
       "      <td>2400</td>\n",
       "      <td>77</td>\n",
       "      <td>0</td>\n",
       "      <td>0</td>\n",
       "      <td>0</td>\n",
       "      <td>1358</td>\n",
       "      <td>0.518409</td>\n",
       "      <td>...</td>\n",
       "      <td>0.334315</td>\n",
       "      <td>1.767305</td>\n",
       "      <td>0.056701</td>\n",
       "      <td>6.845815</td>\n",
       "      <td>12</td>\n",
       "      <td>0</td>\n",
       "      <td>18</td>\n",
       "      <td>0</td>\n",
       "      <td>90</td>\n",
       "      <td>0</td>\n",
       "    </tr>\n",
       "    <tr>\n",
       "      <th>3</th>\n",
       "      <td>6091</td>\n",
       "      <td>304528</td>\n",
       "      <td>526</td>\n",
       "      <td>599</td>\n",
       "      <td>1515</td>\n",
       "      <td>0</td>\n",
       "      <td>1</td>\n",
       "      <td>1</td>\n",
       "      <td>4214</td>\n",
       "      <td>1.445420</td>\n",
       "      <td>...</td>\n",
       "      <td>0.124822</td>\n",
       "      <td>0.142145</td>\n",
       "      <td>0.359516</td>\n",
       "      <td>578.950570</td>\n",
       "      <td>10</td>\n",
       "      <td>0</td>\n",
       "      <td>11</td>\n",
       "      <td>0</td>\n",
       "      <td>51</td>\n",
       "      <td>0</td>\n",
       "    </tr>\n",
       "    <tr>\n",
       "      <th>4</th>\n",
       "      <td>12967</td>\n",
       "      <td>13693</td>\n",
       "      <td>204</td>\n",
       "      <td>1177</td>\n",
       "      <td>452</td>\n",
       "      <td>0</td>\n",
       "      <td>1</td>\n",
       "      <td>1</td>\n",
       "      <td>3200</td>\n",
       "      <td>4.052187</td>\n",
       "      <td>...</td>\n",
       "      <td>0.063750</td>\n",
       "      <td>0.367812</td>\n",
       "      <td>0.141250</td>\n",
       "      <td>67.122549</td>\n",
       "      <td>13</td>\n",
       "      <td>0</td>\n",
       "      <td>14</td>\n",
       "      <td>0</td>\n",
       "      <td>106</td>\n",
       "      <td>0</td>\n",
       "    </tr>\n",
       "  </tbody>\n",
       "</table>\n",
       "<p>5 rows × 21 columns</p>\n",
       "</div>"
      ],
      "text/plain": [
       "   statuses_count  followers_count  friends_count  favourites_count  \\\n",
       "0            5124             6641           3074             13768   \n",
       "1           10672             8465           1575              4561   \n",
       "2             704             3108            454              2400   \n",
       "3            6091           304528            526               599   \n",
       "4           12967            13693            204              1177   \n",
       "\n",
       "   listed_count  is_default_profile  is_profile_use_background_image  \\\n",
       "0           126                   0                                0   \n",
       "1           191                   0                                1   \n",
       "2            77                   0                                0   \n",
       "3          1515                   0                                1   \n",
       "4           452                   0                                1   \n",
       "\n",
       "   is_verified  user_age  tweets_freq  ...  friends_growth_rate  \\\n",
       "0            1      2711     1.890077  ...             1.133899   \n",
       "1            1      4424     2.412297  ...             0.356013   \n",
       "2            0      1358     0.518409  ...             0.334315   \n",
       "3            1      4214     1.445420  ...             0.124822   \n",
       "4            1      3200     4.052187  ...             0.063750   \n",
       "\n",
       "   favourites_growth_rate  listed_growth_rate  followers_friends_ratio  \\\n",
       "0                5.078569            0.046477                 2.160377   \n",
       "1                1.030967            0.043174                 5.374603   \n",
       "2                1.767305            0.056701                 6.845815   \n",
       "3                0.142145            0.359516               578.950570   \n",
       "4                0.367812            0.141250                67.122549   \n",
       "\n",
       "   screen_name_length  num_digits_in_screen_name  length_of_name  \\\n",
       "0                  12                          0              14   \n",
       "1                  11                          0              23   \n",
       "2                  12                          0              18   \n",
       "3                  10                          0              11   \n",
       "4                  13                          0              14   \n",
       "\n",
       "   num_digits_in_name  description_length  is_bot  \n",
       "0                   0                  73       0  \n",
       "1                   0                 142       0  \n",
       "2                   0                  90       0  \n",
       "3                   0                  51       0  \n",
       "4                   0                 106       0  \n",
       "\n",
       "[5 rows x 21 columns]"
      ]
     },
     "execution_count": 6,
     "metadata": {},
     "output_type": "execute_result"
    }
   ],
   "source": [
    "df.head()"
   ]
  },
  {
   "cell_type": "code",
   "execution_count": 7,
   "id": "a3064e93",
   "metadata": {},
   "outputs": [
    {
     "data": {
      "text/plain": [
       "(2400, 21)"
      ]
     },
     "execution_count": 7,
     "metadata": {},
     "output_type": "execute_result"
    }
   ],
   "source": [
    "df.shape"
   ]
  },
  {
   "cell_type": "code",
   "execution_count": 8,
   "id": "2a673356",
   "metadata": {},
   "outputs": [
    {
     "data": {
      "text/html": [
       "<div>\n",
       "<style scoped>\n",
       "    .dataframe tbody tr th:only-of-type {\n",
       "        vertical-align: middle;\n",
       "    }\n",
       "\n",
       "    .dataframe tbody tr th {\n",
       "        vertical-align: top;\n",
       "    }\n",
       "\n",
       "    .dataframe thead th {\n",
       "        text-align: right;\n",
       "    }\n",
       "</style>\n",
       "<table border=\"1\" class=\"dataframe\">\n",
       "  <thead>\n",
       "    <tr style=\"text-align: right;\">\n",
       "      <th></th>\n",
       "      <th>statuses_count</th>\n",
       "      <th>followers_count</th>\n",
       "      <th>friends_count</th>\n",
       "      <th>favourites_count</th>\n",
       "      <th>listed_count</th>\n",
       "      <th>is_default_profile</th>\n",
       "      <th>is_profile_use_background_image</th>\n",
       "      <th>is_verified</th>\n",
       "      <th>user_age</th>\n",
       "      <th>tweets_freq</th>\n",
       "      <th>...</th>\n",
       "      <th>friends_growth_rate</th>\n",
       "      <th>favourites_growth_rate</th>\n",
       "      <th>listed_growth_rate</th>\n",
       "      <th>followers_friends_ratio</th>\n",
       "      <th>screen_name_length</th>\n",
       "      <th>num_digits_in_screen_name</th>\n",
       "      <th>length_of_name</th>\n",
       "      <th>num_digits_in_name</th>\n",
       "      <th>description_length</th>\n",
       "      <th>is_bot</th>\n",
       "    </tr>\n",
       "  </thead>\n",
       "  <tbody>\n",
       "    <tr>\n",
       "      <th>count</th>\n",
       "      <td>2.400000e+03</td>\n",
       "      <td>2.400000e+03</td>\n",
       "      <td>2400.000000</td>\n",
       "      <td>2400.000000</td>\n",
       "      <td>2400.000000</td>\n",
       "      <td>2400.000000</td>\n",
       "      <td>2400.000000</td>\n",
       "      <td>2400.000000</td>\n",
       "      <td>2400.000000</td>\n",
       "      <td>2400.000000</td>\n",
       "      <td>...</td>\n",
       "      <td>2400.000000</td>\n",
       "      <td>2400.000000</td>\n",
       "      <td>2400.000000</td>\n",
       "      <td>2.400000e+03</td>\n",
       "      <td>2400.000000</td>\n",
       "      <td>2400.000000</td>\n",
       "      <td>2400.000000</td>\n",
       "      <td>2400.000000</td>\n",
       "      <td>2400.000000</td>\n",
       "      <td>2400.000000</td>\n",
       "    </tr>\n",
       "    <tr>\n",
       "      <th>mean</th>\n",
       "      <td>2.629046e+04</td>\n",
       "      <td>8.955198e+04</td>\n",
       "      <td>1963.246250</td>\n",
       "      <td>10648.327917</td>\n",
       "      <td>709.082083</td>\n",
       "      <td>0.243333</td>\n",
       "      <td>0.704167</td>\n",
       "      <td>0.743750</td>\n",
       "      <td>3382.837083</td>\n",
       "      <td>7.634789</td>\n",
       "      <td>...</td>\n",
       "      <td>0.497441</td>\n",
       "      <td>2.810923</td>\n",
       "      <td>0.169272</td>\n",
       "      <td>3.284046e+03</td>\n",
       "      <td>11.179583</td>\n",
       "      <td>0.118750</td>\n",
       "      <td>13.923750</td>\n",
       "      <td>0.059167</td>\n",
       "      <td>111.012917</td>\n",
       "      <td>0.250000</td>\n",
       "    </tr>\n",
       "    <tr>\n",
       "      <th>std</th>\n",
       "      <td>5.771702e+04</td>\n",
       "      <td>7.347846e+05</td>\n",
       "      <td>6095.658137</td>\n",
       "      <td>24481.941917</td>\n",
       "      <td>3343.528520</td>\n",
       "      <td>0.429184</td>\n",
       "      <td>0.456512</td>\n",
       "      <td>0.436652</td>\n",
       "      <td>1234.070943</td>\n",
       "      <td>20.714654</td>\n",
       "      <td>...</td>\n",
       "      <td>1.451790</td>\n",
       "      <td>6.764467</td>\n",
       "      <td>0.693192</td>\n",
       "      <td>3.140602e+04</td>\n",
       "      <td>2.634747</td>\n",
       "      <td>0.513736</td>\n",
       "      <td>4.789136</td>\n",
       "      <td>0.395682</td>\n",
       "      <td>43.193461</td>\n",
       "      <td>0.433103</td>\n",
       "    </tr>\n",
       "    <tr>\n",
       "      <th>min</th>\n",
       "      <td>8.000000e+00</td>\n",
       "      <td>0.000000e+00</td>\n",
       "      <td>0.000000</td>\n",
       "      <td>0.000000</td>\n",
       "      <td>0.000000</td>\n",
       "      <td>0.000000</td>\n",
       "      <td>0.000000</td>\n",
       "      <td>0.000000</td>\n",
       "      <td>726.000000</td>\n",
       "      <td>0.001752</td>\n",
       "      <td>...</td>\n",
       "      <td>0.000000</td>\n",
       "      <td>0.000000</td>\n",
       "      <td>0.000000</td>\n",
       "      <td>6.859206e-02</td>\n",
       "      <td>3.000000</td>\n",
       "      <td>0.000000</td>\n",
       "      <td>1.000000</td>\n",
       "      <td>0.000000</td>\n",
       "      <td>0.000000</td>\n",
       "      <td>0.000000</td>\n",
       "    </tr>\n",
       "    <tr>\n",
       "      <th>25%</th>\n",
       "      <td>4.531000e+03</td>\n",
       "      <td>1.528250e+03</td>\n",
       "      <td>110.000000</td>\n",
       "      <td>90.000000</td>\n",
       "      <td>43.000000</td>\n",
       "      <td>0.000000</td>\n",
       "      <td>0.000000</td>\n",
       "      <td>0.000000</td>\n",
       "      <td>2220.250000</td>\n",
       "      <td>1.537573</td>\n",
       "      <td>...</td>\n",
       "      <td>0.033929</td>\n",
       "      <td>0.034419</td>\n",
       "      <td>0.014677</td>\n",
       "      <td>3.310664e+00</td>\n",
       "      <td>9.000000</td>\n",
       "      <td>0.000000</td>\n",
       "      <td>11.000000</td>\n",
       "      <td>0.000000</td>\n",
       "      <td>79.000000</td>\n",
       "      <td>0.000000</td>\n",
       "    </tr>\n",
       "    <tr>\n",
       "      <th>50%</th>\n",
       "      <td>1.141750e+04</td>\n",
       "      <td>6.512500e+03</td>\n",
       "      <td>881.500000</td>\n",
       "      <td>2728.500000</td>\n",
       "      <td>158.000000</td>\n",
       "      <td>0.000000</td>\n",
       "      <td>1.000000</td>\n",
       "      <td>1.000000</td>\n",
       "      <td>3834.500000</td>\n",
       "      <td>3.536165</td>\n",
       "      <td>...</td>\n",
       "      <td>0.224359</td>\n",
       "      <td>0.734363</td>\n",
       "      <td>0.043637</td>\n",
       "      <td>1.200000e+01</td>\n",
       "      <td>11.000000</td>\n",
       "      <td>0.000000</td>\n",
       "      <td>13.000000</td>\n",
       "      <td>0.000000</td>\n",
       "      <td>123.000000</td>\n",
       "      <td>0.000000</td>\n",
       "    </tr>\n",
       "    <tr>\n",
       "      <th>75%</th>\n",
       "      <td>2.758800e+04</td>\n",
       "      <td>2.634400e+04</td>\n",
       "      <td>1969.000000</td>\n",
       "      <td>10688.250000</td>\n",
       "      <td>480.000000</td>\n",
       "      <td>0.000000</td>\n",
       "      <td>1.000000</td>\n",
       "      <td>1.000000</td>\n",
       "      <td>4396.000000</td>\n",
       "      <td>7.838287</td>\n",
       "      <td>...</td>\n",
       "      <td>0.502255</td>\n",
       "      <td>2.659280</td>\n",
       "      <td>0.119837</td>\n",
       "      <td>8.490969e+01</td>\n",
       "      <td>13.000000</td>\n",
       "      <td>0.000000</td>\n",
       "      <td>16.000000</td>\n",
       "      <td>0.000000</td>\n",
       "      <td>149.000000</td>\n",
       "      <td>0.250000</td>\n",
       "    </tr>\n",
       "    <tr>\n",
       "      <th>max</th>\n",
       "      <td>1.768111e+06</td>\n",
       "      <td>1.848919e+07</td>\n",
       "      <td>128736.000000</td>\n",
       "      <td>462740.000000</td>\n",
       "      <td>112295.000000</td>\n",
       "      <td>1.000000</td>\n",
       "      <td>1.000000</td>\n",
       "      <td>1.000000</td>\n",
       "      <td>5388.000000</td>\n",
       "      <td>708.661723</td>\n",
       "      <td>...</td>\n",
       "      <td>27.378988</td>\n",
       "      <td>121.517857</td>\n",
       "      <td>21.906945</td>\n",
       "      <td>1.342549e+06</td>\n",
       "      <td>15.000000</td>\n",
       "      <td>8.000000</td>\n",
       "      <td>48.000000</td>\n",
       "      <td>8.000000</td>\n",
       "      <td>172.000000</td>\n",
       "      <td>1.000000</td>\n",
       "    </tr>\n",
       "  </tbody>\n",
       "</table>\n",
       "<p>8 rows × 21 columns</p>\n",
       "</div>"
      ],
      "text/plain": [
       "       statuses_count  followers_count  friends_count  favourites_count  \\\n",
       "count    2.400000e+03     2.400000e+03    2400.000000       2400.000000   \n",
       "mean     2.629046e+04     8.955198e+04    1963.246250      10648.327917   \n",
       "std      5.771702e+04     7.347846e+05    6095.658137      24481.941917   \n",
       "min      8.000000e+00     0.000000e+00       0.000000          0.000000   \n",
       "25%      4.531000e+03     1.528250e+03     110.000000         90.000000   \n",
       "50%      1.141750e+04     6.512500e+03     881.500000       2728.500000   \n",
       "75%      2.758800e+04     2.634400e+04    1969.000000      10688.250000   \n",
       "max      1.768111e+06     1.848919e+07  128736.000000     462740.000000   \n",
       "\n",
       "        listed_count  is_default_profile  is_profile_use_background_image  \\\n",
       "count    2400.000000         2400.000000                      2400.000000   \n",
       "mean      709.082083            0.243333                         0.704167   \n",
       "std      3343.528520            0.429184                         0.456512   \n",
       "min         0.000000            0.000000                         0.000000   \n",
       "25%        43.000000            0.000000                         0.000000   \n",
       "50%       158.000000            0.000000                         1.000000   \n",
       "75%       480.000000            0.000000                         1.000000   \n",
       "max    112295.000000            1.000000                         1.000000   \n",
       "\n",
       "       is_verified     user_age  tweets_freq  ...  friends_growth_rate  \\\n",
       "count  2400.000000  2400.000000  2400.000000  ...          2400.000000   \n",
       "mean      0.743750  3382.837083     7.634789  ...             0.497441   \n",
       "std       0.436652  1234.070943    20.714654  ...             1.451790   \n",
       "min       0.000000   726.000000     0.001752  ...             0.000000   \n",
       "25%       0.000000  2220.250000     1.537573  ...             0.033929   \n",
       "50%       1.000000  3834.500000     3.536165  ...             0.224359   \n",
       "75%       1.000000  4396.000000     7.838287  ...             0.502255   \n",
       "max       1.000000  5388.000000   708.661723  ...            27.378988   \n",
       "\n",
       "       favourites_growth_rate  listed_growth_rate  followers_friends_ratio  \\\n",
       "count             2400.000000         2400.000000             2.400000e+03   \n",
       "mean                 2.810923            0.169272             3.284046e+03   \n",
       "std                  6.764467            0.693192             3.140602e+04   \n",
       "min                  0.000000            0.000000             6.859206e-02   \n",
       "25%                  0.034419            0.014677             3.310664e+00   \n",
       "50%                  0.734363            0.043637             1.200000e+01   \n",
       "75%                  2.659280            0.119837             8.490969e+01   \n",
       "max                121.517857           21.906945             1.342549e+06   \n",
       "\n",
       "       screen_name_length  num_digits_in_screen_name  length_of_name  \\\n",
       "count         2400.000000                2400.000000     2400.000000   \n",
       "mean            11.179583                   0.118750       13.923750   \n",
       "std              2.634747                   0.513736        4.789136   \n",
       "min              3.000000                   0.000000        1.000000   \n",
       "25%              9.000000                   0.000000       11.000000   \n",
       "50%             11.000000                   0.000000       13.000000   \n",
       "75%             13.000000                   0.000000       16.000000   \n",
       "max             15.000000                   8.000000       48.000000   \n",
       "\n",
       "       num_digits_in_name  description_length       is_bot  \n",
       "count         2400.000000         2400.000000  2400.000000  \n",
       "mean             0.059167          111.012917     0.250000  \n",
       "std              0.395682           43.193461     0.433103  \n",
       "min              0.000000            0.000000     0.000000  \n",
       "25%              0.000000           79.000000     0.000000  \n",
       "50%              0.000000          123.000000     0.000000  \n",
       "75%              0.000000          149.000000     0.250000  \n",
       "max              8.000000          172.000000     1.000000  \n",
       "\n",
       "[8 rows x 21 columns]"
      ]
     },
     "execution_count": 8,
     "metadata": {},
     "output_type": "execute_result"
    }
   ],
   "source": [
    "df.describe()"
   ]
  },
  {
   "cell_type": "code",
   "execution_count": 9,
   "id": "bf3f73bb",
   "metadata": {},
   "outputs": [
    {
     "data": {
      "text/plain": [
       "statuses_count                     0\n",
       "followers_count                    0\n",
       "friends_count                      0\n",
       "favourites_count                   0\n",
       "listed_count                       0\n",
       "is_default_profile                 0\n",
       "is_profile_use_background_image    0\n",
       "is_verified                        0\n",
       "user_age                           0\n",
       "tweets_freq                        0\n",
       "followers_growth_rate              0\n",
       "friends_growth_rate                0\n",
       "favourites_growth_rate             0\n",
       "listed_growth_rate                 0\n",
       "followers_friends_ratio            0\n",
       "screen_name_length                 0\n",
       "num_digits_in_screen_name          0\n",
       "length_of_name                     0\n",
       "num_digits_in_name                 0\n",
       "description_length                 0\n",
       "is_bot                             0\n",
       "dtype: int64"
      ]
     },
     "execution_count": 9,
     "metadata": {},
     "output_type": "execute_result"
    }
   ],
   "source": [
    "df.isnull().sum()"
   ]
  },
  {
   "cell_type": "code",
   "execution_count": 10,
   "id": "b57298e5",
   "metadata": {},
   "outputs": [],
   "source": [
    "X, y = df.drop('is_bot', axis=1), df['is_bot']"
   ]
  },
  {
   "cell_type": "code",
   "execution_count": 11,
   "id": "c6c53088",
   "metadata": {},
   "outputs": [],
   "source": [
    "X_train, X_test, y_train, y_test = train_test_split(X, y, test_size=0.5, random_state=1, shuffle=True)"
   ]
  },
  {
   "cell_type": "code",
   "execution_count": 12,
   "id": "d1a73f3a",
   "metadata": {},
   "outputs": [
    {
     "data": {
      "text/plain": [
       "((1200, 20), (1200, 20), (1200,), (1200,))"
      ]
     },
     "execution_count": 12,
     "metadata": {},
     "output_type": "execute_result"
    }
   ],
   "source": [
    "X_train.shape, X_test.shape, y_train.shape, y_test.shape"
   ]
  },
  {
   "cell_type": "markdown",
   "id": "e00e63de",
   "metadata": {},
   "source": [
    "### 1. Базовый контекст (делают все хоть как-то)\n",
    "\n",
    "1.1 Обучить модель без каких-либо дополнительных условий, которая должна наилучшим образом отработать на тестовой выборке преподавателя с точки зрения F-меры"
   ]
  },
  {
   "cell_type": "code",
   "execution_count": 13,
   "id": "a651f34d",
   "metadata": {},
   "outputs": [
    {
     "name": "stdout",
     "output_type": "stream",
     "text": [
      "F1: 99.32203%\n"
     ]
    }
   ],
   "source": [
    "model = lgbm.LGBMClassifier()\n",
    "model.fit(X_train, y_train)\n",
    "model_pred = model.predict(X_test)\n",
    "print(f\"F1: {f1_score(y_test, model_pred) * 100:.5f}%\")"
   ]
  },
  {
   "cell_type": "code",
   "execution_count": 14,
   "id": "515feff4",
   "metadata": {},
   "outputs": [],
   "source": [
    "with open('model.pkl','wb') as f:\n",
    "    pickle.dump(model, f)"
   ]
  },
  {
   "cell_type": "markdown",
   "id": "ed5bca26",
   "metadata": {},
   "source": [
    "## 2. Вторичные контесты\n",
    "\n",
    "2.1. Максимально логичным образом обучить качественную модель, использующую для работы только 10 признаков из всего исходного множества."
   ]
  },
  {
   "cell_type": "code",
   "execution_count": 15,
   "id": "cb83605c",
   "metadata": {},
   "outputs": [
    {
     "data": {
      "text/plain": [
       "<AxesSubplot:title={'center':'Feature importance'}, xlabel='Feature importance', ylabel='Features'>"
      ]
     },
     "execution_count": 15,
     "metadata": {},
     "output_type": "execute_result"
    },
    {
     "data": {
      "image/png": "[encoded data removed]",
      "text/plain": [
       "<Figure size 720x432 with 1 Axes>"
      ]
     },
     "metadata": {
      "needs_background": "light"
     },
     "output_type": "display_data"
    }
   ],
   "source": [
    "lgbm.plot_importance(model)"
   ]
  },
  {
   "cell_type": "code",
   "execution_count": 16,
   "id": "d11ec57c",
   "metadata": {},
   "outputs": [],
   "source": [
    "df_new = df[[\n",
    "    'user_age',\n",
    "    'favourites_count',\n",
    "    'friends_count',\n",
    "    'followers_friends_ratio',\n",
    "    'description_length',\n",
    "    'statuses_count',\n",
    "    'tweets_freq',\n",
    "    'listed_count',\n",
    "    'listed_growth_rate',\n",
    "    'friends_growth_rate',\n",
    "    'is_bot'\n",
    "]]"
   ]
  },
  {
   "cell_type": "code",
   "execution_count": 17,
   "id": "aad4f0b8",
   "metadata": {},
   "outputs": [],
   "source": [
    "X_new, y_new = df_new.drop('is_bot', axis=1), df_new['is_bot']"
   ]
  },
  {
   "cell_type": "code",
   "execution_count": 18,
   "id": "4ac0887c",
   "metadata": {},
   "outputs": [],
   "source": [
    "X_train_new, X_test_new, y_train_new, y_test_new = train_test_split(\n",
    "    X_new, y_new, test_size=0.5, random_state=1, shuffle=True)"
   ]
  },
  {
   "cell_type": "code",
   "execution_count": 19,
   "id": "7d454a3d",
   "metadata": {},
   "outputs": [
    {
     "name": "stdout",
     "output_type": "stream",
     "text": [
      "F1: 97.10392%\n"
     ]
    }
   ],
   "source": [
    "model_new = lgbm.LGBMClassifier()\n",
    "model_new.fit(X_train_new, y_train_new)\n",
    "model_pred_new = model_new.predict(X_test_new)\n",
    "print(f\"F1: {f1_score(y_test_new, model_pred_new) * 100:.5f}%\")"
   ]
  },
  {
   "cell_type": "markdown",
   "id": "65f5d9e7",
   "metadata": {},
   "source": [
    "2.2. Обучить модель, обеспечивающую вероятность пропуска бота на уровне не выше 0.03, и имеющую насколько возможно низкую вероятность ложного обнаружения."
   ]
  },
  {
   "cell_type": "code",
   "execution_count": 20,
   "id": "280b1754",
   "metadata": {},
   "outputs": [
    {
     "name": "stdout",
     "output_type": "stream",
     "text": [
      "F1: 99.32203%\n"
     ]
    }
   ],
   "source": [
    "model = lgbm.LGBMClassifier()\n",
    "model.fit(X_train, y_train)\n",
    "model_pred = model.predict(X_test)\n",
    "print(f\"F1: {f1_score(y_test, model_pred) * 100:.5f}%\")"
   ]
  },
  {
   "cell_type": "code",
   "execution_count": 21,
   "id": "2173d976",
   "metadata": {},
   "outputs": [
    {
     "data": {
      "text/plain": [
       "<sklearn.metrics._plot.confusion_matrix.ConfusionMatrixDisplay at 0x17c821460>"
      ]
     },
     "execution_count": 21,
     "metadata": {},
     "output_type": "execute_result"
    },
    {
     "data": {
      "image/png": "[encoded data removed]",
      "text/plain": [
       "<Figure size 720x432 with 2 Axes>"
      ]
     },
     "metadata": {
      "needs_background": "light"
     },
     "output_type": "display_data"
    }
   ],
   "source": [
    "plot_confusion_matrix(model, X_test, y_test, normalize='true', cmap='plasma')"
   ]
  },
  {
   "cell_type": "markdown",
   "id": "ea55fefe",
   "metadata": {},
   "source": [
    "### 3. Углубленное аналитическое исследование по имеющимся данным\n",
    "\n",
    "3.1. Тем или иным способом выполнить сравнительное исследование значимости различных\n",
    "признаков применительно к произвольному фиксированному классификатору."
   ]
  },
  {
   "cell_type": "code",
   "execution_count": 22,
   "id": "3f69d74b",
   "metadata": {},
   "outputs": [
    {
     "data": {
      "text/html": [
       "<div>\n",
       "<style scoped>\n",
       "    .dataframe tbody tr th:only-of-type {\n",
       "        vertical-align: middle;\n",
       "    }\n",
       "\n",
       "    .dataframe tbody tr th {\n",
       "        vertical-align: top;\n",
       "    }\n",
       "\n",
       "    .dataframe thead th {\n",
       "        text-align: right;\n",
       "    }\n",
       "</style>\n",
       "<table border=\"1\" class=\"dataframe\">\n",
       "  <thead>\n",
       "    <tr style=\"text-align: right;\">\n",
       "      <th></th>\n",
       "      <th>feature</th>\n",
       "      <th>importance</th>\n",
       "    </tr>\n",
       "  </thead>\n",
       "  <tbody>\n",
       "    <tr>\n",
       "      <th>0</th>\n",
       "      <td>user_age</td>\n",
       "      <td>379</td>\n",
       "    </tr>\n",
       "    <tr>\n",
       "      <th>1</th>\n",
       "      <td>favourites_count</td>\n",
       "      <td>279</td>\n",
       "    </tr>\n",
       "    <tr>\n",
       "      <th>2</th>\n",
       "      <td>friends_count</td>\n",
       "      <td>231</td>\n",
       "    </tr>\n",
       "    <tr>\n",
       "      <th>3</th>\n",
       "      <td>followers_friends_ratio</td>\n",
       "      <td>196</td>\n",
       "    </tr>\n",
       "    <tr>\n",
       "      <th>4</th>\n",
       "      <td>description_length</td>\n",
       "      <td>178</td>\n",
       "    </tr>\n",
       "    <tr>\n",
       "      <th>5</th>\n",
       "      <td>statuses_count</td>\n",
       "      <td>166</td>\n",
       "    </tr>\n",
       "    <tr>\n",
       "      <th>6</th>\n",
       "      <td>tweets_freq</td>\n",
       "      <td>151</td>\n",
       "    </tr>\n",
       "    <tr>\n",
       "      <th>7</th>\n",
       "      <td>listed_count</td>\n",
       "      <td>148</td>\n",
       "    </tr>\n",
       "    <tr>\n",
       "      <th>8</th>\n",
       "      <td>listed_growth_rate</td>\n",
       "      <td>142</td>\n",
       "    </tr>\n",
       "    <tr>\n",
       "      <th>9</th>\n",
       "      <td>friends_growth_rate</td>\n",
       "      <td>135</td>\n",
       "    </tr>\n",
       "    <tr>\n",
       "      <th>10</th>\n",
       "      <td>is_verified</td>\n",
       "      <td>133</td>\n",
       "    </tr>\n",
       "    <tr>\n",
       "      <th>11</th>\n",
       "      <td>followers_count</td>\n",
       "      <td>116</td>\n",
       "    </tr>\n",
       "    <tr>\n",
       "      <th>12</th>\n",
       "      <td>favourites_growth_rate</td>\n",
       "      <td>111</td>\n",
       "    </tr>\n",
       "    <tr>\n",
       "      <th>13</th>\n",
       "      <td>length_of_name</td>\n",
       "      <td>79</td>\n",
       "    </tr>\n",
       "    <tr>\n",
       "      <th>14</th>\n",
       "      <td>followers_growth_rate</td>\n",
       "      <td>62</td>\n",
       "    </tr>\n",
       "    <tr>\n",
       "      <th>15</th>\n",
       "      <td>screen_name_length</td>\n",
       "      <td>37</td>\n",
       "    </tr>\n",
       "    <tr>\n",
       "      <th>16</th>\n",
       "      <td>num_digits_in_screen_name</td>\n",
       "      <td>3</td>\n",
       "    </tr>\n",
       "    <tr>\n",
       "      <th>17</th>\n",
       "      <td>is_default_profile</td>\n",
       "      <td>2</td>\n",
       "    </tr>\n",
       "    <tr>\n",
       "      <th>18</th>\n",
       "      <td>is_profile_use_background_image</td>\n",
       "      <td>1</td>\n",
       "    </tr>\n",
       "    <tr>\n",
       "      <th>19</th>\n",
       "      <td>num_digits_in_name</td>\n",
       "      <td>0</td>\n",
       "    </tr>\n",
       "  </tbody>\n",
       "</table>\n",
       "</div>"
      ],
      "text/plain": [
       "                            feature  importance\n",
       "0                          user_age         379\n",
       "1                  favourites_count         279\n",
       "2                     friends_count         231\n",
       "3           followers_friends_ratio         196\n",
       "4                description_length         178\n",
       "5                    statuses_count         166\n",
       "6                       tweets_freq         151\n",
       "7                      listed_count         148\n",
       "8                listed_growth_rate         142\n",
       "9               friends_growth_rate         135\n",
       "10                      is_verified         133\n",
       "11                  followers_count         116\n",
       "12           favourites_growth_rate         111\n",
       "13                   length_of_name          79\n",
       "14            followers_growth_rate          62\n",
       "15               screen_name_length          37\n",
       "16        num_digits_in_screen_name           3\n",
       "17               is_default_profile           2\n",
       "18  is_profile_use_background_image           1\n",
       "19               num_digits_in_name           0"
      ]
     },
     "execution_count": 22,
     "metadata": {},
     "output_type": "execute_result"
    }
   ],
   "source": [
    "boost = model.booster_\n",
    "\n",
    "df_feature_importance = (\n",
    "    pd.DataFrame({\n",
    "        'feature': boost.feature_name(),\n",
    "        'importance': boost.feature_importance(),\n",
    "    })\n",
    "    .sort_values('importance', ascending=False)\n",
    ").reset_index().drop('index', axis=1)\n",
    "\n",
    "df_feature_importance"
   ]
  },
  {
   "cell_type": "markdown",
   "id": "4db07353",
   "metadata": {},
   "source": [
    "3.2. Синтезировать 3 или более собственных признаков на основе имеющихся и показать, что\n",
    "они имеют какие-либо преимущества перед хотя бы какими либо из базовых признаков."
   ]
  },
  {
   "cell_type": "code",
   "execution_count": null,
   "id": "404664dd",
   "metadata": {},
   "outputs": [],
   "source": []
  },
  {
   "cell_type": "markdown",
   "id": "8dd44692",
   "metadata": {},
   "source": [
    "3.3. Выбрать один базовый тип ML-модели на свой вкус (SVM, дерево решений, случайный\n",
    "лес, градиентный бустинг и пр.) и провести ROC-анализ в зависимости от её\n",
    "гиперпараметров."
   ]
  },
  {
   "cell_type": "code",
   "execution_count": 23,
   "id": "5a5e7b13",
   "metadata": {},
   "outputs": [],
   "source": [
    "learning_rate = np.arange(0.1, 3.1, 0.1)\n",
    "n_estimators = np.arange(101, 201, 1)"
   ]
  },
  {
   "cell_type": "code",
   "execution_count": 24,
   "id": "3367985f",
   "metadata": {},
   "outputs": [
    {
     "data": {
      "application/json": {
       "ascii": false,
       "bar_format": null,
       "colour": null,
       "elapsed": 0.010833740234375,
       "initial": 0,
       "n": 0,
       "ncols": null,
       "nrows": 24,
       "postfix": null,
       "prefix": "",
       "rate": null,
       "total": 30,
       "unit": "it",
       "unit_divisor": 1000,
       "unit_scale": false
      },
      "application/vnd.jupyter.widget-view+json": {
       "model_id": "462ce07bfc694f58be8cca71f345109b",
       "version_major": 2,
       "version_minor": 0
      },
      "text/plain": [
       "  0%|          | 0/30 [00:00<?, ?it/s]"
      ]
     },
     "metadata": {},
     "output_type": "display_data"
    },
    {
     "data": {
      "text/plain": [
       "<AxesSubplot:xlabel='learning_rate', ylabel='roc_auc'>"
      ]
     },
     "execution_count": 24,
     "metadata": {},
     "output_type": "execute_result"
    },
    {
     "data": {
      "image/png": "[encoded data removed]",
      "text/plain": [
       "<Figure size 720x432 with 1 Axes>"
      ]
     },
     "metadata": {
      "needs_background": "light"
     },
     "output_type": "display_data"
    }
   ],
   "source": [
    "lgbm_learning_rate = []\n",
    "\n",
    "for learn_rate in tqdm(learning_rate):\n",
    "    model = lgbm.LGBMClassifier(learning_rate=learn_rate)\n",
    "    lgbm_learning_rate.append(np.mean(cross_val_score(model, X, y, scoring=\"roc_auc\")))\n",
    "    \n",
    "learn_rate_df = pd.DataFrame(data={\"learning_rate\": learning_rate, \"roc_auc\": lgbm_learning_rate})\n",
    "sns.lineplot(data=learn_rate_df, x=\"learning_rate\", y=\"roc_auc\")"
   ]
  },
  {
   "cell_type": "code",
   "execution_count": 25,
   "id": "83921729",
   "metadata": {},
   "outputs": [
    {
     "data": {
      "application/json": {
       "ascii": false,
       "bar_format": null,
       "colour": null,
       "elapsed": 0.023000001907348633,
       "initial": 0,
       "n": 0,
       "ncols": null,
       "nrows": 24,
       "postfix": null,
       "prefix": "",
       "rate": null,
       "total": 100,
       "unit": "it",
       "unit_divisor": 1000,
       "unit_scale": false
      },
      "application/vnd.jupyter.widget-view+json": {
       "model_id": "19dbd5c1eaae41da86b2ea5aedb35947",
       "version_major": 2,
       "version_minor": 0
      },
      "text/plain": [
       "  0%|          | 0/100 [00:00<?, ?it/s]"
      ]
     },
     "metadata": {},
     "output_type": "display_data"
    },
    {
     "data": {
      "text/plain": [
       "<AxesSubplot:xlabel='n_estimators', ylabel='roc_auc'>"
      ]
     },
     "execution_count": 25,
     "metadata": {},
     "output_type": "execute_result"
    },
    {
     "data": {
      "image/png": "[encoded data removed]",
      "text/plain": [
       "<Figure size 720x432 with 1 Axes>"
      ]
     },
     "metadata": {
      "needs_background": "light"
     },
     "output_type": "display_data"
    }
   ],
   "source": [
    "lgbm_estimators = []\n",
    "\n",
    "for estim in tqdm(n_estimators):\n",
    "    model = lgbm.LGBMClassifier(n_estimators=estim)\n",
    "    lgbm_estimators.append(np.mean(cross_val_score(model, X, y, scoring=\"roc_auc\")))\n",
    "    \n",
    "estim_df = pd.DataFrame(data={\"n_estimators\": n_estimators, \"roc_auc\": lgbm_estimators})\n",
    "sns.lineplot(data=estim_df, x=\"n_estimators\", y=\"roc_auc\")"
   ]
  },
  {
   "cell_type": "markdown",
   "id": "61a420c8",
   "metadata": {},
   "source": [
    "3.4 Провести исследование влияние параметров обучения на недо- и переобученность\n",
    "модели."
   ]
  },
  {
   "cell_type": "code",
   "execution_count": 26,
   "id": "314359f4",
   "metadata": {},
   "outputs": [
    {
     "data": {
      "application/json": {
       "ascii": false,
       "bar_format": null,
       "colour": null,
       "elapsed": 0.009546041488647461,
       "initial": 0,
       "n": 0,
       "ncols": null,
       "nrows": 24,
       "postfix": null,
       "prefix": "",
       "rate": null,
       "total": 30,
       "unit": "it",
       "unit_divisor": 1000,
       "unit_scale": false
      },
      "application/vnd.jupyter.widget-view+json": {
       "model_id": "07149cd4d93c42ffbf667c62e7c3a97e",
       "version_major": 2,
       "version_minor": 0
      },
      "text/plain": [
       "  0%|          | 0/30 [00:00<?, ?it/s]"
      ]
     },
     "metadata": {},
     "output_type": "display_data"
    },
    {
     "data": {
      "text/plain": [
       "<AxesSubplot:xlabel='learning_rate', ylabel='roc_auc'>"
      ]
     },
     "execution_count": 26,
     "metadata": {},
     "output_type": "execute_result"
    },
    {
     "data": {
      "image/png": "[encoded data removed]",
      "text/plain": [
       "<Figure size 720x432 with 1 Axes>"
      ]
     },
     "metadata": {
      "needs_background": "light"
     },
     "output_type": "display_data"
    }
   ],
   "source": [
    "lgbm_lr = []\n",
    "\n",
    "for i in tqdm(learning_rate):\n",
    "    model = lgbm.LGBMClassifier(learning_rate=i)\n",
    "    model.fit(X_train, y_train)\n",
    "\n",
    "    train_roc_auc = roc_auc_score(y_train, model.predict(X_train))\n",
    "    lgbm_lr.append({\"learning_rate\": i, \"roc_auc\": train_roc_auc, \"type\": \"train\"})\n",
    "\n",
    "    test_roc_auc = roc_auc_score(y_test, model.predict(X_test))\n",
    "    lgbm_lr.append({\"learning_rate\": i, \"roc_auc\": test_roc_auc, \"type\": \"test\"})\n",
    "    \n",
    "lgbm_lr_df = pd.DataFrame(lgbm_lr)\n",
    "sns.lineplot(data=lgbm_lr_df, x=\"learning_rate\", y=\"roc_auc\", hue=\"type\")"
   ]
  },
  {
   "cell_type": "code",
   "execution_count": 27,
   "id": "8bcf8979",
   "metadata": {},
   "outputs": [
    {
     "data": {
      "application/json": {
       "ascii": false,
       "bar_format": null,
       "colour": null,
       "elapsed": 0.00818324089050293,
       "initial": 0,
       "n": 0,
       "ncols": null,
       "nrows": 24,
       "postfix": null,
       "prefix": "",
       "rate": null,
       "total": 100,
       "unit": "it",
       "unit_divisor": 1000,
       "unit_scale": false
      },
      "application/vnd.jupyter.widget-view+json": {
       "model_id": "3e2b92141294425189867a6cd2cb7997",
       "version_major": 2,
       "version_minor": 0
      },
      "text/plain": [
       "  0%|          | 0/100 [00:00<?, ?it/s]"
      ]
     },
     "metadata": {},
     "output_type": "display_data"
    },
    {
     "data": {
      "text/plain": [
       "<AxesSubplot:xlabel='n_estimators', ylabel='roc_auc'>"
      ]
     },
     "execution_count": 27,
     "metadata": {},
     "output_type": "execute_result"
    },
    {
     "data": {
      "image/png": "[encoded data removed]",
      "text/plain": [
       "<Figure size 720x432 with 1 Axes>"
      ]
     },
     "metadata": {
      "needs_background": "light"
     },
     "output_type": "display_data"
    }
   ],
   "source": [
    "lgbm_estim = []\n",
    "\n",
    "for i in tqdm(n_estimators):\n",
    "    model = lgbm.LGBMClassifier(n_estimators=estim)\n",
    "    model.fit(X_train, y_train)\n",
    "\n",
    "    train_roc_auc = roc_auc_score(y_train, model.predict(X_train))\n",
    "    lgbm_estim.append({\"n_estimators\": i, \"roc_auc\": train_roc_auc, \"type\": \"train\"})\n",
    "\n",
    "    test_roc_auc = roc_auc_score(y_test, model.predict(X_test))\n",
    "    lgbm_estim.append({\"n_estimators\": i, \"roc_auc\": test_roc_auc, \"type\": \"test\"})\n",
    "    \n",
    "    \n",
    "estim_df = pd.DataFrame(lgbm_estim)\n",
    "sns.lineplot(data=estim_df, x=\"n_estimators\", y=\"roc_auc\", hue='type')"
   ]
  }
 ],
 "metadata": {
  "kernelspec": {
   "display_name": "Python 3 (ipykernel)",
   "language": "python",
   "name": "python3"
  },
  "language_info": {
   "codemirror_mode": {
    "name": "ipython",
    "version": 3
   },
   "file_extension": ".py",
   "mimetype": "text/x-python",
   "name": "python",
   "nbconvert_exporter": "python",
   "pygments_lexer": "ipython3",
   "version": "3.9.10"
  }
 },
 "nbformat": 4,
 "nbformat_minor": 5
}
