{
  "nbformat": 4,
  "nbformat_minor": 0,
  "metadata": {
    "colab": {
      "provenance": []
    },
    "kernelspec": {
      "name": "python3",
      "display_name": "Python 3"
    },
    "language_info": {
      "name": "python"
    }
  },
  "cells": [
    {
      "cell_type": "code",
      "execution_count": 1,
      "metadata": {
        "colab": {
          "base_uri": "https://localhost:8080/"
        },
        "id": "pzg-fO6UDdJq",
        "outputId": "800d1699-85cc-4098-ab24-c19ad42c6f0a"
      },
      "outputs": [
        {
          "output_type": "stream",
          "name": "stdout",
          "text": [
            "Mounted at /content/drive\n"
          ]
        }
      ],
      "source": [
        "from google.colab import drive\n",
        "drive.mount('/content/drive')\n",
        "\n",
        "import pandas as pd\n",
        "import seaborn as sns\n",
        "import joblib\n",
        "\n",
        "from sklearn.model_selection import train_test_split\n",
        "from sklearn.preprocessing import StandardScaler\n",
        "from sklearn.linear_model import LinearRegression"
      ]
    },
    {
      "cell_type": "code",
      "source": [
        "def classify(modelFileName, featuresFileName):\n",
        "    model = joblib.load(modelFileName)\n",
        "    df = pd.read_csv(featuresFileName, delimiter=',')\n",
        "\n",
        "    \n",
        "    y_pred = model.predict(df)\n",
        "    \n",
        "    return y_pred.reshape((1, y_pred.size)) "
      ],
      "metadata": {
        "id": "8YYrrLLNFm5B"
      },
      "execution_count": 2,
      "outputs": []
    },
    {
      "cell_type": "code",
      "source": [
        "model = '/content/drive/MyDrive/Fedoseev/best_model-Ershow.pkl'\n",
        "data = '/content/drive/MyDrive/Fedoseev/features_train.csv'\n",
        "y_pred = classify(model, data)\n",
        "y_pred"
      ],
      "metadata": {
        "colab": {
          "base_uri": "https://localhost:8080/"
        },
        "id": "4TBA97v9Fncp",
        "outputId": "d38890a1-1206-448b-d5bc-71edd7825384"
      },
      "execution_count": 3,
      "outputs": [
        {
          "output_type": "execute_result",
          "data": {
            "text/plain": [
              "array([[0, 0, 0, ..., 1, 1, 1]])"
            ]
          },
          "metadata": {},
          "execution_count": 3
        }
      ]
    }
  ]
}