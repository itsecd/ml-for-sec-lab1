{
 "cells": [
  {
   "cell_type": "markdown",
   "id": "3fcd4dfa",
   "metadata": {},
   "source": [
    "Подключаем необходимые библиотеки"
   ]
  },
  {
   "cell_type": "code",
   "execution_count": 1,
   "id": "2eacd20c",
   "metadata": {},
   "outputs": [],
   "source": [
    "import joblib\n",
    "import warnings\n",
    "import numpy as np\n",
    "import pandas as pd\n",
    "import seaborn as sns\n",
    "import matplotlib.pyplot as plt\n",
    "\n",
    "from sklearn.neighbors import KNeighborsClassifier\n",
    "from sklearn.tree import DecisionTreeClassifier\n",
    "from sklearn.ensemble import RandomForestClassifier\n",
    "from sklearn.linear_model import LogisticRegression\n",
    "from sklearn.metrics import f1_score\n",
    "from sklearn.pipeline import Pipeline\n",
    "from sklearn.preprocessing import StandardScaler\n",
    "from sklearn.model_selection import train_test_split\n",
    "\n",
    "np.random.seed(42)\n",
    "warnings.filterwarnings('ignore')"
   ]
  },
  {
   "cell_type": "markdown",
   "id": "8ce776e9",
   "metadata": {},
   "source": [
    "Считываем таблицы features_train.csv и classes_train.csv"
   ]
  },
  {
   "cell_type": "code",
   "execution_count": 2,
   "id": "007fc1f7",
   "metadata": {},
   "outputs": [],
   "source": [
    "features = pd.read_csv('features_train.csv')\n",
    "classes = pd.read_csv('classes_train.csv')"
   ]
  },
  {
   "cell_type": "markdown",
   "id": "fcfa86ca",
   "metadata": {},
   "source": [
    "Добавляем метки классов и удаляем бинарные признаки"
   ]
  },
  {
   "cell_type": "code",
   "execution_count": 3,
   "id": "bb46a93e",
   "metadata": {},
   "outputs": [],
   "source": [
    "new = features.copy()\n",
    "new['is_bot'] = pd.Series(classes['is_bot'], index = new.index)"
   ]
  },
  {
   "cell_type": "markdown",
   "id": "10ad71af",
   "metadata": {},
   "source": [
    "Проверка на пропущенные значения"
   ]
  },
  {
   "cell_type": "code",
   "execution_count": 4,
   "id": "154fbab8",
   "metadata": {},
   "outputs": [
    {
     "data": {
      "text/plain": [
       "statuses_count                     0\n",
       "followers_count                    0\n",
       "friends_count                      0\n",
       "favourites_count                   0\n",
       "listed_count                       0\n",
       "is_default_profile                 0\n",
       "is_profile_use_background_image    0\n",
       "is_verified                        0\n",
       "user_age                           0\n",
       "tweets_freq                        0\n",
       "followers_growth_rate              0\n",
       "friends_growth_rate                0\n",
       "favourites_growth_rate             0\n",
       "listed_growth_rate                 0\n",
       "followers_friends_ratio            0\n",
       "screen_name_length                 0\n",
       "num_digits_in_screen_name          0\n",
       "length_of_name                     0\n",
       "num_digits_in_name                 0\n",
       "description_length                 0\n",
       "is_bot                             0\n",
       "dtype: int64"
      ]
     },
     "execution_count": 4,
     "metadata": {},
     "output_type": "execute_result"
    }
   ],
   "source": [
    "new.isnull().sum()"
   ]
  },
  {
   "cell_type": "markdown",
   "id": "1c336711",
   "metadata": {},
   "source": [
    "Разделим данные на зависимые (y) и независимые (X)"
   ]
  },
  {
   "cell_type": "code",
   "execution_count": 5,
   "id": "159770b5",
   "metadata": {},
   "outputs": [],
   "source": [
    "X = new.drop('is_bot', axis = 1)\n",
    "y = new.is_bot"
   ]
  },
  {
   "cell_type": "markdown",
   "id": "24eb0d64",
   "metadata": {},
   "source": [
    "Разделяем данные на обучающую и тестовую выборки"
   ]
  },
  {
   "cell_type": "code",
   "execution_count": 6,
   "id": "9341f3b0",
   "metadata": {},
   "outputs": [],
   "source": [
    "X_train, X_test, y_train, y_test = train_test_split(X, y, test_size = 0.25)"
   ]
  },
  {
   "cell_type": "markdown",
   "id": "542403a7",
   "metadata": {},
   "source": [
    "## 1.1 Обучить модель без каких-либо дополнительных условий, которая должна наилучшим образом отработать на тестовой выборке преподавателя с точки зрения F-меры"
   ]
  },
  {
   "cell_type": "markdown",
   "id": "619be153",
   "metadata": {},
   "source": [
    "Создаём кортеж для сравнения значений F-меры"
   ]
  },
  {
   "cell_type": "code",
   "execution_count": 7,
   "id": "370b8aa2",
   "metadata": {},
   "outputs": [],
   "source": [
    "F = {'Logistic_Regression':0, \n",
    "     'K_Neighbors_Classifier':0, \n",
    "     'Decision_Tree_Classifier':0,\n",
    "     'Random_Forest_Classifier':0 }"
   ]
  },
  {
   "cell_type": "markdown",
   "id": "b27faeb4",
   "metadata": {},
   "source": [
    "Логистическая регрессия"
   ]
  },
  {
   "cell_type": "code",
   "execution_count": 8,
   "id": "d1aff412",
   "metadata": {},
   "outputs": [
    {
     "data": {
      "text/plain": [
       "0.9983353465631291"
      ]
     },
     "execution_count": 8,
     "metadata": {},
     "output_type": "execute_result"
    }
   ],
   "source": [
    "model_LR = LogisticRegression() \n",
    "scaler = StandardScaler()\n",
    "\n",
    "X_train1 = scaler.fit_transform(X_train)\n",
    "X_test1 = scaler.transform(X_test)\n",
    "\n",
    "model_LR.fit(X_train1, y_train)\n",
    "y_LR = model_LR.predict(X_test1)\n",
    "\n",
    "F['Logistic_Regression'] = f1_score(y_test, y_LR, average = \"weighted\")\n",
    "F['Logistic_Regression']"
   ]
  },
  {
   "cell_type": "markdown",
   "id": "61d68d22",
   "metadata": {},
   "source": [
    "K - ближайших соседей"
   ]
  },
  {
   "cell_type": "code",
   "execution_count": 9,
   "id": "258b654d",
   "metadata": {},
   "outputs": [
    {
     "data": {
      "text/plain": [
       "0.9933169548355198"
      ]
     },
     "execution_count": 9,
     "metadata": {},
     "output_type": "execute_result"
    }
   ],
   "source": [
    "KNN = KNeighborsClassifier()\n",
    "scaler = StandardScaler()\n",
    "\n",
    "X_train1 = scaler.fit_transform(X_train)\n",
    "X_test1 = scaler.transform(X_test)\n",
    "\n",
    "model_KNN = KNeighborsClassifier()\n",
    "model_KNN.fit(X_train1, y_train)\n",
    "y_KNN = model_KNN.predict(X_test1)\n",
    "\n",
    "F['K_Neighbors_Classifier'] = f1_score(y_test, y_KNN, average = \"weighted\")\n",
    "F['K_Neighbors_Classifier']"
   ]
  },
  {
   "cell_type": "markdown",
   "id": "7c50c2ac",
   "metadata": {},
   "source": [
    "Decision Tree Classifier"
   ]
  },
  {
   "cell_type": "code",
   "execution_count": 10,
   "id": "3e288c79",
   "metadata": {},
   "outputs": [
    {
     "data": {
      "text/plain": [
       "0.9950060396893874"
      ]
     },
     "execution_count": 10,
     "metadata": {},
     "output_type": "execute_result"
    }
   ],
   "source": [
    "DTC = DecisionTreeClassifier()\n",
    "scaler = StandardScaler()\n",
    "\n",
    "X_train1 = scaler.fit_transform(X_train)\n",
    "X_test1 = scaler.transform(X_test)\n",
    "\n",
    "model_DTC = DecisionTreeClassifier()\n",
    "model_DTC.fit(X_train1, y_train)\n",
    "y_DTC = model_DTC.predict(X_test1)\n",
    "\n",
    "F['Decision_Tree_Classifier'] = f1_score(y_test, y_DTC, average = \"weighted\")\n",
    "F['Decision_Tree_Classifier']"
   ]
  },
  {
   "cell_type": "markdown",
   "id": "8001db3e",
   "metadata": {},
   "source": [
    "Random Forest Classifier"
   ]
  },
  {
   "cell_type": "code",
   "execution_count": 11,
   "id": "0064fc42",
   "metadata": {},
   "outputs": [
    {
     "data": {
      "text/plain": [
       "0.9983312974530304"
      ]
     },
     "execution_count": 11,
     "metadata": {},
     "output_type": "execute_result"
    }
   ],
   "source": [
    "RFC = RandomForestClassifier()\n",
    "scaler = StandardScaler()\n",
    "\n",
    "steps_RFC = [('normalizer', scaler), ('RFC', RFC)]\n",
    "pipe_RFC = Pipeline(steps_RFC)\n",
    "\n",
    "model_RFC = RandomForestClassifier()\n",
    "model_RFC.fit(X_train, y_train)\n",
    "y_RFC = model_RFC.predict(X_test)\n",
    "\n",
    "F['Random_Forest_Classifier'] = f1_score(y_test, y_RFC, average = \"weighted\")\n",
    "F['Random_Forest_Classifier']"
   ]
  },
  {
   "cell_type": "markdown",
   "id": "0bcec450",
   "metadata": {},
   "source": [
    "Выбираем лучшую модель"
   ]
  },
  {
   "cell_type": "code",
   "execution_count": 12,
   "id": "7e7e3fff",
   "metadata": {},
   "outputs": [
    {
     "name": "stdout",
     "output_type": "stream",
     "text": [
      "Наибольшее значение F-меры: 0.9983353465631291 .  Модель: Logistic_Regression\n"
     ]
    }
   ],
   "source": [
    "maximum = 0\n",
    "\n",
    "for i, j in F.items():\n",
    "    if j > maximum:\n",
    "        maximum = j\n",
    "        model_max = i\n",
    "print ('Наибольшее значение F-меры:', maximum, '.  Модель:', model_max)"
   ]
  },
  {
   "cell_type": "markdown",
   "id": "8fcbc8ea",
   "metadata": {},
   "source": [
    "Сохраняем наилучшую модель"
   ]
  },
  {
   "cell_type": "code",
   "execution_count": 13,
   "id": "69fb4c49",
   "metadata": {},
   "outputs": [
    {
     "data": {
      "text/plain": [
       "['model_Logistic_Regression.joblib']"
      ]
     },
     "execution_count": 13,
     "metadata": {},
     "output_type": "execute_result"
    }
   ],
   "source": [
    "joblib.dump(model_max, 'model_' + model_max +'.joblib')"
   ]
  }
 ],
 "metadata": {
  "kernelspec": {
   "display_name": "Python 3 (ipykernel)",
   "language": "python",
   "name": "python3"
  },
  "language_info": {
   "codemirror_mode": {
    "name": "ipython",
    "version": 3
   },
   "file_extension": ".py",
   "mimetype": "text/x-python",
   "name": "python",
   "nbconvert_exporter": "python",
   "pygments_lexer": "ipython3",
   "version": "3.9.13"
  }
 },
 "nbformat": 4,
 "nbformat_minor": 5
}
